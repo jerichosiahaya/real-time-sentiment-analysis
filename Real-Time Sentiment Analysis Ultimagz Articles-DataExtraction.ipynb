{
 "cells": [
  {
   "cell_type": "code",
   "execution_count": 10,
   "metadata": {},
   "outputs": [],
   "source": [
    "from urllib.request import urlopen, Request\n",
    "import ijson"
   ]
  },
  {
   "cell_type": "code",
   "execution_count": 13,
   "metadata": {},
   "outputs": [
    {
     "data": {
      "text/plain": [
       "[{'ID': '50086',\n",
       "  'post_date': '2020-12-29 20:55:17',\n",
       "  'post_title': 'Liga Premier Inggris Hadapi Covid-19, Dua Klub Tunda Tanding Hingga Bek Tengah Arsenal Positif Korona',\n",
       "  'post_content': '<strong>SERPONG, ULTIMAGZ.com</strong><strong>&nbsp;—&nbsp;</strong>Liga Primer Inggris kembali menghadapi kasus virus korona yang mengakibatkan laga antara Everton dengan Manchester City ditunda. Selain itu bek tengah Arsenal, Gabriel Magalhaes telah dinyatakan positif Covid-19.\\r\\n\\r\\nAwalnya, laga Everton dengan Manchester City dalam pekan ke-16 Liga Inggris dijadwalkan pada hari Selasa (29/12/2020) dini hari (Waktu Indonesia bagian Barat / WIB) di markas Everton, Goodisom Park. Namun, empat jam sebelum tendangan awal atau&nbsp;<em>kick-off </em>dimulai, Manchester City yang berkunjung sebagai tim tamu terpaksa menunda pertandingan mereka dengan Everton karena beberapa pemain, staf, dan jajaran pelatih klub terdeteksi positif Covid-19.&nbsp;Sebelumnya pada malam natal, terdapat dua pemain inti, Kyle Walker dan Gabriel Jesus, yang diumumkan positif Covid-19.\\r\\n\\r\\nPihak Dewan Liga Primer pun langsung menyetujui permintaan penundaan pertandingan yang diajukan oleh pihak Manchester City. Keputusan tersebut diambil karena Dewan Liga Primer memprioritaskan kesehatan dan keamanan para pemain dan staf.\\r\\n\\r\\n“Liga Primer terus memiliki kepercayaan penuh pada protokol kesehatan serta aturannya dan cara semua klub menerapkannya. Liga berharap mereka yang terjangkit Covid-19 pulih dengan aman serta cepat dan juga akan mengatur ulang pertandingan yang ditunda melawan Everton,” ungkap Dewan Liga Primer.\\r\\n\\r\\nAkan tetapi, Everton menyesali keputusan Dewan Liga Inggris. Mereka pun meminta penjelasan kepada pihak Liga Inggris karena merasa tidak dilibatkan atas pengambilan keputusan penundaan pertandingan untuk melawan Manchester City.\\r\\n\\r\\n“Everton menyesali penundaan pertandingan melawan Manchester City, tidak hanya untuk 2.000 penggemar yang akan hadir, tetapi juga untuk pendukung di Merseyside dan di seluruh dunia,” tutur pihak Everton.\\r\\n\\r\\nTerhitung pada Desember 2020, tidak hanya laga antara Everton dan Manchester City yang dibatalkan. Sebelumnya pada 4 Desember 2020, kasus yang sama juga menimpa Newcastle United dengan Aston Villa.\\r\\n\\r\\n<strong>Bek tengah Arsenal dinyatakan positif Covid-19</strong>\\r\\n\\r\\nSelain laga antara Everton dan Manchester City ditunda, kasus terbaru juga terjadi di klub Arsenal. Salah satu bek tengah Arsenal yang juga sebagai pemain inti, Gabriel Magalhaes, dinyatakan positif Covid-19.&nbsp;Tentunya hal tersebut membuat Gabriel harus absen pada dua pertandingan Arsenal berikutnya, yaitu menghadapi Brighton dan West Bromwich Albion.&nbsp;\\r\\n\\r\\n“Gabriel telah dites serta dinyatakan positif Covid-19 dan diisolasi sesuai dengan protokol pemerintah Inggris dan Liga Primer. Kami akan terus memantau dan mendukung Gabriel dan kami berharap dia akan tersedia lagi setelah dua pertandingan berikutnya,” tulis Arsenal pada situs resmi&nbsp;<em>arsenal.com </em>pada&nbsp;Senin (28/12/2020).\\r\\n\\r\\nMelansir dari <em>Goal International, </em>pihak klub mengonfirmasi bahwa Gabriel sebelumnya menjalin kontak erat dengan seseorang yang dinyatakan positif Covid-19. Bek tengah asal Brasil yang berusia 23 tahun tersebut kemudian menjalani karantina sehingga membuatnya tidak turut serta dalam&nbsp; kemenangan 3-1 <em>The Gunners </em>atas Chelsea pada laga pekan ke-15, Minggu (27/12/2020) WIB.\\r\\n\\r\\nGabriel sendiri bergabung dengan Arsenal pada September 2020 dan menjadi pemain inti di bawah manajer Mikel Arteta. Bek tengah itu hingga kini telah tampil 15 pertandingan di Liga Primer dan Liga Europa. Ia pun sudah mencetak dua gol dalam pertandingan domestik.\\r\\n\\r\\n&nbsp;\\r\\n\\r\\n<strong>Penulis: M. Frizki Alfian</strong>\\r\\n\\r\\n<strong style=\"font-style: inherit;\">Editor: Elisabeth Diandra Sandi</strong>\\r\\n\\r\\n<strong style=\"font-style: inherit;\">Foto: skysports.com</strong>\\r\\n\\r\\n<strong>Sumber: Skysports.com, Goal.com, Arsenal.com</strong>'},\n",
       " {'ID': '50053',\n",
       "  'post_date': '2020-12-28 15:26:48',\n",
       "  'post_title': 'TREASURE Umumkan Comeback dengan Full Album Pertama',\n",
       "  'post_content': '<span style=\"font-weight: 400\"><strong>SERPONG, ULTIMAGZ.com —</strong> Angin segar datang dari <em>boy group</em> baru asal Korea Selatan, TREASURE. Para penggemar dikejutkan oleh kabar bahwa TREASURE akan segera melakukan <em>comeback </em>pada\\xa0Januari mendatang.</span>\\r\\n\\r\\nYG Entertainment secara resmi mengumumkan pada Senin (28/12/20) bahwa grup pendatang baru tersebut akan melakukan <em>comeback</em>\\xa0 dengan mengungkap poster konsep <em>full album</em> pertama mereka.\\xa0 Album bertajuk \"The First Step: Treasure Effect\" ini akan dirilis pada Senin (11/01/21) mendatang.\\r\\n\\r\\n[caption id=\"attachment_50054\" align=\"aligncenter\" width=\"429\"]<img class=\"wp-image-50054 \" src=\"https://ultimagz.com/wp-content/uploads/EqSEZXOVQAI0cUy-200x300.jpg\" alt=\"TREASURE\" width=\"429\" height=\"644\" /> <strong>Poster konsep album \"The First Step: Treasure Effect\" yang telah diumumkan oleh akun Twitter resmi YG Entertainment pada Senin (28/12/20). (Foto: twitter.com/ygent_official)</strong>[/caption]\\r\\n\\r\\nKonsep album \"Treasure Effect\" sebenarnya telah diungkap dalam video\\xa0<em>teaser </em>konsep\\xa0debut mereka. Sama seperti penemuan yang berkontribusi bagi perkembangan umat manusia, grup yang beranggotakan 12 orang dari Korea Selatan dan Jepang ini juga berkeinginan untuk mengguncang dunia.\\r\\n\\r\\nDikutip dari <em>news.naver.com,</em> konsep ini juga berkaitan dengan\\xa0<em>full album</em> pertama TREASURE serta diibaratkan sebagai cahaya yang menerangi dunia dan dapat meningkatkan harapan para penggemar mereka.\\r\\n\\r\\n&nbsp;\\r\\n\\r\\n[embedyt] https://www.youtube.com/watch?v=DTeh6E3Sz1M [/embedyt]\\r\\n\\r\\n&nbsp;\\r\\n\\r\\nKembalinya grup ini dilakukan dengan promosi yang cepat dan terfokus. Sama-sama berada dalam naungan YG Entertainment, TREASURE melakukan aktivitas yang terkesan berbeda dengan senior mereka, seperti BIGBANG, iKON dan BLACKPINK. Sejak debut, grup ini mempersiapkan penampilan untuk lagu baru hampir satu bulan sekali sampai akhirnya merilis<em> full album</em> untuk pertama kalinya pada Januari mendatang.\\r\\n\\r\\n<strong>Baca juga:\\xa0<a href=\"https://ultimagz.com/hiburan/musik/izone-resmi-comeback-dengan-panorama/\" target=\"_blank\" rel=\"noopener\">IZ*ONE Resmi Comeback dengan “Panorama”</a></strong>\\r\\n\\r\\nPada November 2020, grup hasil program pencarian bakat YG Treasure Box ini telah merilis<em> single</em> <em>album</em> berjudul \"The First Step: Chapter Three\" yang menampilkan lagu utama <em>MMM</em>. Memulai debut pada Agustus 2020 dengan lagu utama <em>BOY</em>, \\xa0TREASURE juga telah mencatatkan prestasi dengan\\xa0menjadi artis tercepat yang masuk ke dalam C<em>hart Billboard\\'s Social 50 serta</em>\\xa0mendapat gelar \"Best New Male Group\" dan \"Worldwide Fans\\' Choice Top 10\" dalam Mnet Asian Music Awards 2020.\\r\\n\\r\\n&nbsp;\\r\\n\\r\\n[embedyt] https://www.youtube.com/watch?v=LY8eDuVXB1g[/embedyt]\\r\\n\\r\\n&nbsp;\\r\\n\\r\\n<strong>Penulis: Carolyn Nathasa Dharmadhi</strong>\\r\\n<strong>Editor: Maria Helen Oktavia</strong>\\r\\n<strong>Foto: kpopping.com</strong>\\r\\n<strong>Sumber: allkpop.com, soompi.com, news.naver.com, twitter.com</strong>'},\n",
       " {'ID': '50037',\n",
       "  'post_date': '2020-12-27 12:01:22',\n",
       "  'post_title': '‘Vesa Rasa’, Konser Inagurasi Virtual Ultima Sonora Antarkan Embun Sejuk\\xa0',\n",
       "  'post_content': '<span style=\"font-weight: 400;\"><strong>SERPONG, ULTIMAGZ.com —</strong> Ultima Sonora kembali mengadakan konser inagurasi untuk menyambut anggota baru angkatan 2020 pada Sabtu (26/12/20). Berbeda dari tahun-tahun sebelumnya, konser bertajuk ‘Vesa Rasa’ ini digelar secara virtual. Melalui siaran langsung di platform YouTube, Ultima Sonora menampilkan enam buah lagu.</span>\\r\\n\\r\\n<span style=\"font-weight: 400;\">‘Vesa Rasa’ merupakan kata yang diambil dari bahasa Latin. Vesa adalah embun sementara rasa memiliki arti sejuk. Jika digabung, ‘Vesa Rasa’ berarti embun yang sejuk. Pemilihan dua kata tersebut sebagai nama konser inagurasi tahun ini sejatinya merupakan harapan kepada anggota baru Ultima Sonora.</span>\\r\\n\\r\\n<span style=\"font-weight: 400;\">“Begitu pula dengan teman-teman Ultima Sonora angkatan 2020 dengan harapan bisa membawa dampak positif serta memberikan harmoni yang menyejukkan bagi banyak orang,” ungkap Wiliam Reynold selaku pembawa acara.</span>\\r\\n\\r\\n<span style=\"font-weight: 400;\">Konser virtual ini menyambut 33 Geng Embun, sapaan untuk anggota baru Ultima Sonora tahun 2020. Berlatih sejak Oktober, Geng Embun dan anggota Ultima Sonora tahun 2016-2019 menampilkan enam lagu.</span>\\r\\n\\r\\n<i><span style=\"font-weight: 400;\">Tanah Airku </span></i><span style=\"font-weight: 400;\">dipilih menjadi ‘embun penyejuk’ pertama di konser ini. Nuansa Indonesia yang tercipta dari lagu tersebut disusul oleh lagu </span><i><span style=\"font-weight: 400;\">Zamrud Khatulistiwa</span></i><span style=\"font-weight: 400;\">. Setelah itu, Love G-Project turut unjuk suara dengan lagu </span><i><span style=\"font-weight: 400;\">Soul’s Anthem</span></i><span style=\"font-weight: 400;\">.</span>\\r\\n\\r\\n<span style=\"font-weight: 400;\">Lagu ketiga yang dibawakan adalah </span><i><span style=\"font-weight: 400;\">So This is Love</span></i><span style=\"font-weight: 400;\"> dan </span><i><span style=\"font-weight: 400;\">Laskar Pelangi</span></i><span style=\"font-weight: 400;\">. Ultima Sonora memilih untuk menampilkan lagu bertema Natal untuk lagu kelima dan keenam, yaitu lagu </span><i><span style=\"font-weight: 400;\">It’s The Most Wonderful Time</span></i><span style=\"font-weight: 400;\"> dan </span><i><span style=\"font-weight: 400;\">Jingle Bells</span></i><span style=\"font-weight: 400;\">. Meski merekam suara dan video sendiri-sendiri, seluruh anggota Ultima Sonora menyamakan warna baju dan koreo agar penampilan virtual ini tetap menampilkan hasil terbaik.</span>\\r\\n\\r\\nMenurut Ketua Ultima Sonora 2019/2020 Evelyn Aurelia, pemilihan keenam lagu tersebut didasarkan pada tingkat kesulitan yang tidak terlalu tinggi, mengingat waktu latihan yang ada cukup singkat.&nbsp;\\r\\n\\r\\n\"Kita&nbsp;<em>patokin&nbsp;</em>3 minggu sebelum konser semua penyanyi sudah harus kumpulin rekaman. Jadi, kita pilih lagu yang kebanyakan mereka sudah pernah denger dan&nbsp;<em>easy to study</em>, biar anak-anak juga gak pada stress belajarnya,\" terangnya.\\r\\n\\r\\n<strong>Peluh di Balik Latihan Virtual</strong>\\r\\n\\r\\n<span style=\"font-weight: 400;\">Terbatasnya ruang untuk berlatih tentu menjadi sebuah tantangan bagi anggota Ultima Sonora. Menurut </span><i><span style=\"font-weight: 400;\">coaching </span></i><span style=\"font-weight: 400;\">Ultima Sonora 2019/2020 Anna Helena, cara membuat latihan daring lebih efektif adalah dengan membuat atmosfer yang serius di setiap waktu.&nbsp;</span>\\r\\n\\r\\n<span style=\"font-weight: 400;\">“Supaya waktu latihan yang ada bisa digunakan semaksimal mungkin untuk bedah partitur dan mengetes suara satu-satu,” ungkapnya. Untuk persiapan ‘Vesa Rasa’, Ultima Sonora mengadakan latihan sebanyak tiga hingga empat kali dalam satu minggu.</span>\\r\\n\\r\\n<span style=\"font-weight: 400;\">Berbagai kendala juga membayangi kegiatan bernyanyi secara virtual, salah satunya adalah proyeksi suara bisa berbeda dari yang dibuat dan diterima.</span>\\r\\n\\r\\n<span style=\"font-weight: 400;\">“Untuk kendala, paduan suara itu bernyanyi menggunakan teknik, jadi cukup sulit untuk bisa memberikan pemahaman teknik </span><i><span style=\"font-weight: 400;\">nyanyi</span></i><span style=\"font-weight: 400;\"> yang benar ke anak2 baru karena tidak bisa kita tunjukkan atau cek secara langsung,” lanjut Anna.</span>\\r\\n\\r\\n<span style=\"font-weight: 400;\">Di sisi lain, Evelyn juga menambahkan bahwa semua proses yang dilakukan secara&nbsp;<em>online</em> menimbulkan ketakutan akan rasa jenuh dan letih akibat terlalu lama melihat layar.</span>\\r\\n\\r\\n\"Dan karena <em>online</em> ini, kita jadi gak tahu secara langsung <em>mood</em> dari anak-anak gimana. Apakah mereka konsen pas latihan, dan pas perekaman juga kalau mereka gak ada kabar kadang-kadang kita bingung.\"\\r\\n\\r\\nNamun, terlepas dari segala kesulitannya, konser \\'Vesa Rasa\\' dapat berjalan dengan lancar.&nbsp; Anna menyampaikan bahwa dari segi suara, perkembangan Geng Embun terlihat sangat jelas setelah melewati banyak latihan.\\r\\n\\r\\n&nbsp;\\r\\n\\r\\n<strong>Penulis: Andi Annisa Ivana Putri</strong>\\r\\n\\r\\n<strong>Editor: Agatha Lintang Kinasih&nbsp;</strong>\\r\\n\\r\\n<strong>Fotografer: Veronica Novaria</strong>\\r\\n\\r\\n<iframe class=\"ginger-extension-definitionpopup\" style=\"display: none;\" width=\"300\" height=\"150\"></iframe>'}]"
      ]
     },
     "execution_count": 13,
     "metadata": {},
     "output_type": "execute_result"
    }
   ],
   "source": [
    "headers = {'User-Agent': 'Mozilla/5.0 (X11; Linux x86_64) ' \n",
    "                      'AppleWebKit/537.11 (KHTML, like Gecko) '\n",
    "                      'Chrome/23.0.1271.64 Safari/537.11',\n",
    "        'Accept': 'text/html,application/xhtml+xml,application/xml;q=0.9,*/*;q=0.8',\n",
    "        'Accept-Charset': 'ISO-8859-1,utf-8;q=0.7,*;q=0.3',\n",
    "        'Accept-Encoding': 'none',\n",
    "        'Accept-Language': 'en-US,en;q=0.8',\n",
    "        'Connection': 'keep-alive'}\n",
    "reg_url = \"https://ultimagz.com/test_db/show_post.php\"\n",
    "req = Request(url=reg_url, headers=headers) \n",
    "data = json.loads(urlopen(req).read().decode())\n",
    "data"
   ]
  },
  {
   "cell_type": "code",
   "execution_count": 14,
   "metadata": {},
   "outputs": [
    {
     "name": "stdout",
     "output_type": "stream",
     "text": [
      "50086\n",
      "50053\n",
      "50037\n"
     ]
    }
   ],
   "source": [
    "for i in data:\n",
    "    print(i['ID'])"
   ]
  },
  {
   "cell_type": "code",
   "execution_count": 15,
   "metadata": {},
   "outputs": [
    {
     "name": "stdout",
     "output_type": "stream",
     "text": [
      "<strong>SERPONG, ULTIMAGZ.com</strong><strong>&nbsp;—&nbsp;</strong>Liga Primer Inggris kembali menghadapi kasus virus korona yang mengakibatkan laga antara Everton dengan Manchester City ditunda. Selain itu bek tengah Arsenal, Gabriel Magalhaes telah dinyatakan positif Covid-19.\r\n",
      "\r\n",
      "Awalnya, laga Everton dengan Manchester City dalam pekan ke-16 Liga Inggris dijadwalkan pada hari Selasa (29/12/2020) dini hari (Waktu Indonesia bagian Barat / WIB) di markas Everton, Goodisom Park. Namun, empat jam sebelum tendangan awal atau&nbsp;<em>kick-off </em>dimulai, Manchester City yang berkunjung sebagai tim tamu terpaksa menunda pertandingan mereka dengan Everton karena beberapa pemain, staf, dan jajaran pelatih klub terdeteksi positif Covid-19.&nbsp;Sebelumnya pada malam natal, terdapat dua pemain inti, Kyle Walker dan Gabriel Jesus, yang diumumkan positif Covid-19.\r\n",
      "\r\n",
      "Pihak Dewan Liga Primer pun langsung menyetujui permintaan penundaan pertandingan yang diajukan oleh pihak Manchester City. Keputusan tersebut diambil karena Dewan Liga Primer memprioritaskan kesehatan dan keamanan para pemain dan staf.\r\n",
      "\r\n",
      "“Liga Primer terus memiliki kepercayaan penuh pada protokol kesehatan serta aturannya dan cara semua klub menerapkannya. Liga berharap mereka yang terjangkit Covid-19 pulih dengan aman serta cepat dan juga akan mengatur ulang pertandingan yang ditunda melawan Everton,” ungkap Dewan Liga Primer.\r\n",
      "\r\n",
      "Akan tetapi, Everton menyesali keputusan Dewan Liga Inggris. Mereka pun meminta penjelasan kepada pihak Liga Inggris karena merasa tidak dilibatkan atas pengambilan keputusan penundaan pertandingan untuk melawan Manchester City.\r\n",
      "\r\n",
      "“Everton menyesali penundaan pertandingan melawan Manchester City, tidak hanya untuk 2.000 penggemar yang akan hadir, tetapi juga untuk pendukung di Merseyside dan di seluruh dunia,” tutur pihak Everton.\r\n",
      "\r\n",
      "Terhitung pada Desember 2020, tidak hanya laga antara Everton dan Manchester City yang dibatalkan. Sebelumnya pada 4 Desember 2020, kasus yang sama juga menimpa Newcastle United dengan Aston Villa.\r\n",
      "\r\n",
      "<strong>Bek tengah Arsenal dinyatakan positif Covid-19</strong>\r\n",
      "\r\n",
      "Selain laga antara Everton dan Manchester City ditunda, kasus terbaru juga terjadi di klub Arsenal. Salah satu bek tengah Arsenal yang juga sebagai pemain inti, Gabriel Magalhaes, dinyatakan positif Covid-19.&nbsp;Tentunya hal tersebut membuat Gabriel harus absen pada dua pertandingan Arsenal berikutnya, yaitu menghadapi Brighton dan West Bromwich Albion.&nbsp;\r\n",
      "\r\n",
      "“Gabriel telah dites serta dinyatakan positif Covid-19 dan diisolasi sesuai dengan protokol pemerintah Inggris dan Liga Primer. Kami akan terus memantau dan mendukung Gabriel dan kami berharap dia akan tersedia lagi setelah dua pertandingan berikutnya,” tulis Arsenal pada situs resmi&nbsp;<em>arsenal.com </em>pada&nbsp;Senin (28/12/2020).\r\n",
      "\r\n",
      "Melansir dari <em>Goal International, </em>pihak klub mengonfirmasi bahwa Gabriel sebelumnya menjalin kontak erat dengan seseorang yang dinyatakan positif Covid-19. Bek tengah asal Brasil yang berusia 23 tahun tersebut kemudian menjalani karantina sehingga membuatnya tidak turut serta dalam&nbsp; kemenangan 3-1 <em>The Gunners </em>atas Chelsea pada laga pekan ke-15, Minggu (27/12/2020) WIB.\r\n",
      "\r\n",
      "Gabriel sendiri bergabung dengan Arsenal pada September 2020 dan menjadi pemain inti di bawah manajer Mikel Arteta. Bek tengah itu hingga kini telah tampil 15 pertandingan di Liga Primer dan Liga Europa. Ia pun sudah mencetak dua gol dalam pertandingan domestik.\r\n",
      "\r\n",
      "&nbsp;\r\n",
      "\r\n",
      "<strong>Penulis: M. Frizki Alfian</strong>\r\n",
      "\r\n",
      "<strong style=\"font-style: inherit;\">Editor: Elisabeth Diandra Sandi</strong>\r\n",
      "\r\n",
      "<strong style=\"font-style: inherit;\">Foto: skysports.com</strong>\r\n",
      "\r\n",
      "<strong>Sumber: Skysports.com, Goal.com, Arsenal.com</strong>\n",
      "<span style=\"font-weight: 400\"><strong>SERPONG, ULTIMAGZ.com —</strong> Angin segar datang dari <em>boy group</em> baru asal Korea Selatan, TREASURE. Para penggemar dikejutkan oleh kabar bahwa TREASURE akan segera melakukan <em>comeback </em>pada Januari mendatang.</span>\r\n",
      "\r\n",
      "YG Entertainment secara resmi mengumumkan pada Senin (28/12/20) bahwa grup pendatang baru tersebut akan melakukan <em>comeback</em>  dengan mengungkap poster konsep <em>full album</em> pertama mereka.  Album bertajuk \"The First Step: Treasure Effect\" ini akan dirilis pada Senin (11/01/21) mendatang.\r\n",
      "\r\n",
      "[caption id=\"attachment_50054\" align=\"aligncenter\" width=\"429\"]<img class=\"wp-image-50054 \" src=\"https://ultimagz.com/wp-content/uploads/EqSEZXOVQAI0cUy-200x300.jpg\" alt=\"TREASURE\" width=\"429\" height=\"644\" /> <strong>Poster konsep album \"The First Step: Treasure Effect\" yang telah diumumkan oleh akun Twitter resmi YG Entertainment pada Senin (28/12/20). (Foto: twitter.com/ygent_official)</strong>[/caption]\r\n",
      "\r\n",
      "Konsep album \"Treasure Effect\" sebenarnya telah diungkap dalam video <em>teaser </em>konsep debut mereka. Sama seperti penemuan yang berkontribusi bagi perkembangan umat manusia, grup yang beranggotakan 12 orang dari Korea Selatan dan Jepang ini juga berkeinginan untuk mengguncang dunia.\r\n",
      "\r\n",
      "Dikutip dari <em>news.naver.com,</em> konsep ini juga berkaitan dengan <em>full album</em> pertama TREASURE serta diibaratkan sebagai cahaya yang menerangi dunia dan dapat meningkatkan harapan para penggemar mereka.\r\n",
      "\r\n",
      "&nbsp;\r\n",
      "\r\n",
      "[embedyt] https://www.youtube.com/watch?v=DTeh6E3Sz1M [/embedyt]\r\n",
      "\r\n",
      "&nbsp;\r\n",
      "\r\n",
      "Kembalinya grup ini dilakukan dengan promosi yang cepat dan terfokus. Sama-sama berada dalam naungan YG Entertainment, TREASURE melakukan aktivitas yang terkesan berbeda dengan senior mereka, seperti BIGBANG, iKON dan BLACKPINK. Sejak debut, grup ini mempersiapkan penampilan untuk lagu baru hampir satu bulan sekali sampai akhirnya merilis<em> full album</em> untuk pertama kalinya pada Januari mendatang.\r\n",
      "\r\n",
      "<strong>Baca juga: <a href=\"https://ultimagz.com/hiburan/musik/izone-resmi-comeback-dengan-panorama/\" target=\"_blank\" rel=\"noopener\">IZ*ONE Resmi Comeback dengan “Panorama”</a></strong>\r\n",
      "\r\n",
      "Pada November 2020, grup hasil program pencarian bakat YG Treasure Box ini telah merilis<em> single</em> <em>album</em> berjudul \"The First Step: Chapter Three\" yang menampilkan lagu utama <em>MMM</em>. Memulai debut pada Agustus 2020 dengan lagu utama <em>BOY</em>,  TREASURE juga telah mencatatkan prestasi dengan menjadi artis tercepat yang masuk ke dalam C<em>hart Billboard's Social 50 serta</em> mendapat gelar \"Best New Male Group\" dan \"Worldwide Fans' Choice Top 10\" dalam Mnet Asian Music Awards 2020.\r\n",
      "\r\n",
      "&nbsp;\r\n",
      "\r\n",
      "[embedyt] https://www.youtube.com/watch?v=LY8eDuVXB1g[/embedyt]\r\n",
      "\r\n",
      "&nbsp;\r\n",
      "\r\n",
      "<strong>Penulis: Carolyn Nathasa Dharmadhi</strong>\r\n",
      "<strong>Editor: Maria Helen Oktavia</strong>\r\n",
      "<strong>Foto: kpopping.com</strong>\r\n",
      "<strong>Sumber: allkpop.com, soompi.com, news.naver.com, twitter.com</strong>\n",
      "<span style=\"font-weight: 400;\"><strong>SERPONG, ULTIMAGZ.com —</strong> Ultima Sonora kembali mengadakan konser inagurasi untuk menyambut anggota baru angkatan 2020 pada Sabtu (26/12/20). Berbeda dari tahun-tahun sebelumnya, konser bertajuk ‘Vesa Rasa’ ini digelar secara virtual. Melalui siaran langsung di platform YouTube, Ultima Sonora menampilkan enam buah lagu.</span>\r\n",
      "\r\n",
      "<span style=\"font-weight: 400;\">‘Vesa Rasa’ merupakan kata yang diambil dari bahasa Latin. Vesa adalah embun sementara rasa memiliki arti sejuk. Jika digabung, ‘Vesa Rasa’ berarti embun yang sejuk. Pemilihan dua kata tersebut sebagai nama konser inagurasi tahun ini sejatinya merupakan harapan kepada anggota baru Ultima Sonora.</span>\r\n",
      "\r\n",
      "<span style=\"font-weight: 400;\">“Begitu pula dengan teman-teman Ultima Sonora angkatan 2020 dengan harapan bisa membawa dampak positif serta memberikan harmoni yang menyejukkan bagi banyak orang,” ungkap Wiliam Reynold selaku pembawa acara.</span>\r\n",
      "\r\n",
      "<span style=\"font-weight: 400;\">Konser virtual ini menyambut 33 Geng Embun, sapaan untuk anggota baru Ultima Sonora tahun 2020. Berlatih sejak Oktober, Geng Embun dan anggota Ultima Sonora tahun 2016-2019 menampilkan enam lagu.</span>\r\n",
      "\r\n",
      "<i><span style=\"font-weight: 400;\">Tanah Airku </span></i><span style=\"font-weight: 400;\">dipilih menjadi ‘embun penyejuk’ pertama di konser ini. Nuansa Indonesia yang tercipta dari lagu tersebut disusul oleh lagu </span><i><span style=\"font-weight: 400;\">Zamrud Khatulistiwa</span></i><span style=\"font-weight: 400;\">. Setelah itu, Love G-Project turut unjuk suara dengan lagu </span><i><span style=\"font-weight: 400;\">Soul’s Anthem</span></i><span style=\"font-weight: 400;\">.</span>\r\n",
      "\r\n",
      "<span style=\"font-weight: 400;\">Lagu ketiga yang dibawakan adalah </span><i><span style=\"font-weight: 400;\">So This is Love</span></i><span style=\"font-weight: 400;\"> dan </span><i><span style=\"font-weight: 400;\">Laskar Pelangi</span></i><span style=\"font-weight: 400;\">. Ultima Sonora memilih untuk menampilkan lagu bertema Natal untuk lagu kelima dan keenam, yaitu lagu </span><i><span style=\"font-weight: 400;\">It’s The Most Wonderful Time</span></i><span style=\"font-weight: 400;\"> dan </span><i><span style=\"font-weight: 400;\">Jingle Bells</span></i><span style=\"font-weight: 400;\">. Meski merekam suara dan video sendiri-sendiri, seluruh anggota Ultima Sonora menyamakan warna baju dan koreo agar penampilan virtual ini tetap menampilkan hasil terbaik.</span>\r\n",
      "\r\n",
      "Menurut Ketua Ultima Sonora 2019/2020 Evelyn Aurelia, pemilihan keenam lagu tersebut didasarkan pada tingkat kesulitan yang tidak terlalu tinggi, mengingat waktu latihan yang ada cukup singkat.&nbsp;\r\n",
      "\r\n",
      "\"Kita&nbsp;<em>patokin&nbsp;</em>3 minggu sebelum konser semua penyanyi sudah harus kumpulin rekaman. Jadi, kita pilih lagu yang kebanyakan mereka sudah pernah denger dan&nbsp;<em>easy to study</em>, biar anak-anak juga gak pada stress belajarnya,\" terangnya.\r\n",
      "\r\n",
      "<strong>Peluh di Balik Latihan Virtual</strong>\r\n",
      "\r\n",
      "<span style=\"font-weight: 400;\">Terbatasnya ruang untuk berlatih tentu menjadi sebuah tantangan bagi anggota Ultima Sonora. Menurut </span><i><span style=\"font-weight: 400;\">coaching </span></i><span style=\"font-weight: 400;\">Ultima Sonora 2019/2020 Anna Helena, cara membuat latihan daring lebih efektif adalah dengan membuat atmosfer yang serius di setiap waktu.&nbsp;</span>\r\n",
      "\r\n",
      "<span style=\"font-weight: 400;\">“Supaya waktu latihan yang ada bisa digunakan semaksimal mungkin untuk bedah partitur dan mengetes suara satu-satu,” ungkapnya. Untuk persiapan ‘Vesa Rasa’, Ultima Sonora mengadakan latihan sebanyak tiga hingga empat kali dalam satu minggu.</span>\r\n",
      "\r\n",
      "<span style=\"font-weight: 400;\">Berbagai kendala juga membayangi kegiatan bernyanyi secara virtual, salah satunya adalah proyeksi suara bisa berbeda dari yang dibuat dan diterima.</span>\r\n",
      "\r\n",
      "<span style=\"font-weight: 400;\">“Untuk kendala, paduan suara itu bernyanyi menggunakan teknik, jadi cukup sulit untuk bisa memberikan pemahaman teknik </span><i><span style=\"font-weight: 400;\">nyanyi</span></i><span style=\"font-weight: 400;\"> yang benar ke anak2 baru karena tidak bisa kita tunjukkan atau cek secara langsung,” lanjut Anna.</span>\r\n",
      "\r\n",
      "<span style=\"font-weight: 400;\">Di sisi lain, Evelyn juga menambahkan bahwa semua proses yang dilakukan secara&nbsp;<em>online</em> menimbulkan ketakutan akan rasa jenuh dan letih akibat terlalu lama melihat layar.</span>\r\n",
      "\r\n",
      "\"Dan karena <em>online</em> ini, kita jadi gak tahu secara langsung <em>mood</em> dari anak-anak gimana. Apakah mereka konsen pas latihan, dan pas perekaman juga kalau mereka gak ada kabar kadang-kadang kita bingung.\"\r\n",
      "\r\n",
      "Namun, terlepas dari segala kesulitannya, konser 'Vesa Rasa' dapat berjalan dengan lancar.&nbsp; Anna menyampaikan bahwa dari segi suara, perkembangan Geng Embun terlihat sangat jelas setelah melewati banyak latihan.\r\n",
      "\r\n",
      "&nbsp;\r\n",
      "\r\n",
      "<strong>Penulis: Andi Annisa Ivana Putri</strong>\r\n",
      "\r\n",
      "<strong>Editor: Agatha Lintang Kinasih&nbsp;</strong>\r\n",
      "\r\n",
      "<strong>Fotografer: Veronica Novaria</strong>\r\n",
      "\r\n",
      "<iframe class=\"ginger-extension-definitionpopup\" style=\"display: none;\" width=\"300\" height=\"150\"></iframe>\n"
     ]
    }
   ],
   "source": [
    "for i in data:\n",
    "    print(i['post_content'])"
   ]
  },
  {
   "cell_type": "code",
   "execution_count": null,
   "metadata": {},
   "outputs": [],
   "source": []
  }
 ],
 "metadata": {
  "kernelspec": {
   "display_name": "Python [conda env:env] *",
   "language": "python",
   "name": "conda-env-env-py"
  },
  "language_info": {
   "codemirror_mode": {
    "name": "ipython",
    "version": 3
   },
   "file_extension": ".py",
   "mimetype": "text/x-python",
   "name": "python",
   "nbconvert_exporter": "python",
   "pygments_lexer": "ipython3",
   "version": "3.7.9"
  }
 },
 "nbformat": 4,
 "nbformat_minor": 4
}
